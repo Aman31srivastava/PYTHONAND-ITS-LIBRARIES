{
 "cells": [
  {
   "cell_type": "markdown",
   "id": "fef1af83",
   "metadata": {},
   "source": [
    "NUMPY ARRAYS VS PYTHON LISTS"
   ]
  },
  {
   "cell_type": "code",
   "execution_count": 2,
   "id": "7377da89",
   "metadata": {},
   "outputs": [
    {
     "name": "stdout",
     "output_type": "stream",
     "text": [
      "1.5065464973449707\n"
     ]
    }
   ],
   "source": [
    "#SPEED\n",
    "#LIST\n",
    "\n",
    "a=[i for i in range(10000000)]\n",
    "b=[i for i in range (10000000,20000000)]\n",
    "c=[]\n",
    "\n",
    "import time\n",
    "\n",
    "start=time.time()\n",
    "for i in range(len(a)):\n",
    "    c.append(a[i]+b[i])\n",
    "print(time.time()-start)"
   ]
  },
  {
   "cell_type": "code",
   "execution_count": 3,
   "id": "38c7a164",
   "metadata": {},
   "outputs": [
    {
     "name": "stdout",
     "output_type": "stream",
     "text": [
      "155.909184217453\n"
     ]
    }
   ],
   "source": [
    "#numpy\n",
    "import numpy as np\n",
    "\n",
    "a=np.arange(1000000)\n",
    "b=np.arange(1000000,2000000)\n",
    "c=a+b\n",
    "print(time.time()-start)"
   ]
  },
  {
   "cell_type": "markdown",
   "id": "9e1d0e75",
   "metadata": {},
   "source": [
    "ADVANCE INDEXING"
   ]
  },
  {
   "cell_type": "code",
   "execution_count": null,
   "id": "ccefd20e",
   "metadata": {},
   "outputs": [
    {
     "data": {
      "text/plain": [
       "array([[ 0,  1,  2],\n",
       "       [ 3,  4,  5],\n",
       "       [ 6,  7,  8],\n",
       "       [ 9, 10, 11]])"
      ]
     },
     "execution_count": 8,
     "metadata": {},
     "output_type": "execute_result"
    }
   ],
   "source": [
    "#NORMAL INDEXING AND SLICING\n",
    "\n",
    "a=np.arange(12).reshape(3,4\n",
    "                        )\n",
    "a"
   ]
  },
  {
   "cell_type": "code",
   "execution_count": null,
   "id": "3f0fcabb",
   "metadata": {},
   "outputs": [],
   "source": []
  },
  {
   "cell_type": "code",
   "execution_count": null,
   "id": "dea6b188",
   "metadata": {},
   "outputs": [],
   "source": []
  }
 ],
 "metadata": {
  "kernelspec": {
   "display_name": "base",
   "language": "python",
   "name": "python3"
  },
  "language_info": {
   "codemirror_mode": {
    "name": "ipython",
    "version": 3
   },
   "file_extension": ".py",
   "mimetype": "text/x-python",
   "name": "python",
   "nbconvert_exporter": "python",
   "pygments_lexer": "ipython3",
   "version": "3.12.7"
  }
 },
 "nbformat": 4,
 "nbformat_minor": 5
}
