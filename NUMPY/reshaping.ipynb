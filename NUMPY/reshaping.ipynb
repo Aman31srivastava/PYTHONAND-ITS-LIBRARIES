{
 "cells": [
  {
   "cell_type": "markdown",
   "id": "26edcfcd",
   "metadata": {},
   "source": [
    "RESHAPING IN NUMPY"
   ]
  },
  {
   "cell_type": "code",
   "execution_count": 2,
   "id": "6f7e5a81",
   "metadata": {},
   "outputs": [
    {
     "name": "stdout",
     "output_type": "stream",
     "text": [
      "(10,) (3, 4) (2, 2, 2)\n"
     ]
    }
   ],
   "source": [
    "import numpy as np\n",
    "a1=np.arange(10)\n",
    "a2=np.arange(12).reshape(3,4)\n",
    "a3=np.arange(8).reshape(2,2,2)\n",
    "a1\n",
    "a2\n",
    "a3\n",
    "print(a1.shape, a2.shape, a3.shape)"
   ]
  },
  {
   "cell_type": "code",
   "execution_count": 3,
   "id": "4f516d2f",
   "metadata": {},
   "outputs": [
    {
     "name": "stdout",
     "output_type": "stream",
     "text": [
      "[0 1 2 3 4 5 6 7 8 9]\n"
     ]
    }
   ],
   "source": [
    "#transpose\n",
    "\n",
    "print(np.transpose(a1))"
   ]
  },
  {
   "cell_type": "code",
   "execution_count": 4,
   "id": "04de7e38",
   "metadata": {},
   "outputs": [
    {
     "name": "stdout",
     "output_type": "stream",
     "text": [
      "[[ 0  4  8]\n",
      " [ 1  5  9]\n",
      " [ 2  6 10]\n",
      " [ 3  7 11]]\n"
     ]
    }
   ],
   "source": [
    "print(np.transpose(a2))"
   ]
  },
  {
   "cell_type": "code",
   "execution_count": 5,
   "id": "1ff7312b",
   "metadata": {},
   "outputs": [
    {
     "name": "stdout",
     "output_type": "stream",
     "text": [
      "[[[0 4]\n",
      "  [2 6]]\n",
      "\n",
      " [[1 5]\n",
      "  [3 7]]]\n"
     ]
    }
   ],
   "source": [
    "print(np.transpose(a3))"
   ]
  },
  {
   "cell_type": "code",
   "execution_count": 6,
   "id": "f3ab0423",
   "metadata": {},
   "outputs": [
    {
     "name": "stdout",
     "output_type": "stream",
     "text": [
      "[ 0  1  2  3  4  5  6  7  8  9 10 11]\n"
     ]
    }
   ],
   "source": [
    "#ravel converts any dimension of array into 1 dimension array\n",
    "\n",
    "print(np.ravel(a2))\n",
    "\n"
   ]
  },
  {
   "cell_type": "code",
   "execution_count": 7,
   "id": "030a5884",
   "metadata": {},
   "outputs": [
    {
     "name": "stdout",
     "output_type": "stream",
     "text": [
      "[0 1 2 3 4 5 6 7]\n"
     ]
    }
   ],
   "source": [
    "print(np.ravel(a3))"
   ]
  },
  {
   "cell_type": "code",
   "execution_count": null,
   "id": "c5d3629c",
   "metadata": {},
   "outputs": [],
   "source": []
  }
 ],
 "metadata": {
  "kernelspec": {
   "display_name": "base",
   "language": "python",
   "name": "python3"
  },
  "language_info": {
   "codemirror_mode": {
    "name": "ipython",
    "version": 3
   },
   "file_extension": ".py",
   "mimetype": "text/x-python",
   "name": "python",
   "nbconvert_exporter": "python",
   "pygments_lexer": "ipython3",
   "version": "3.12.7"
  }
 },
 "nbformat": 4,
 "nbformat_minor": 5
}
