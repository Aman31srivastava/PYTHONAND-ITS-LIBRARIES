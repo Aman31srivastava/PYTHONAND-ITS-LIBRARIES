{
 "cells": [
  {
   "cell_type": "code",
   "execution_count": 7,
   "id": "c6da4d3d",
   "metadata": {},
   "outputs": [
    {
     "data": {
      "text/plain": [
       "array([[[0, 1],\n",
       "        [2, 3]],\n",
       "\n",
       "       [[4, 5],\n",
       "        [6, 7]]])"
      ]
     },
     "execution_count": 7,
     "metadata": {},
     "output_type": "execute_result"
    }
   ],
   "source": [
    "import numpy as np\n",
    "\n",
    "a1=np.arange(10)\n",
    "a2=np.arange(12,dtype=float).reshape(3,4)\n",
    "a3=np.arange(8).reshape(2,2,2)\n",
    "a1\n",
    "a2\n",
    "a3\n"
   ]
  },
  {
   "cell_type": "code",
   "execution_count": 10,
   "id": "f5de72ab",
   "metadata": {},
   "outputs": [
    {
     "data": {
      "text/plain": [
       "3"
      ]
     },
     "execution_count": 10,
     "metadata": {},
     "output_type": "execute_result"
    }
   ],
   "source": [
    "#np.dim\n",
    "# gives the dimensions of an array\n",
    "\n",
    "a1.ndim\n",
    "a2.ndim\n",
    "a3.ndim"
   ]
  },
  {
   "cell_type": "code",
   "execution_count": 13,
   "id": "3ab119cc",
   "metadata": {},
   "outputs": [
    {
     "data": {
      "text/plain": [
       "(2, 2, 2)"
      ]
     },
     "execution_count": 13,
     "metadata": {},
     "output_type": "execute_result"
    }
   ],
   "source": [
    "#shape tells how many items are there in the array\n",
    "\n",
    "a1.shape\n",
    "a2.shape\n",
    "a3.shape"
   ]
  },
  {
   "cell_type": "code",
   "execution_count": 16,
   "id": "f56e7b8a",
   "metadata": {},
   "outputs": [
    {
     "data": {
      "text/plain": [
       "8"
      ]
     },
     "execution_count": 16,
     "metadata": {},
     "output_type": "execute_result"
    }
   ],
   "source": [
    "# size\n",
    "\n",
    "a1.size\n",
    "a2.size\n",
    "a3.size"
   ]
  },
  {
   "cell_type": "code",
   "execution_count": 19,
   "id": "b9deaeff",
   "metadata": {},
   "outputs": [
    {
     "data": {
      "text/plain": [
       "4"
      ]
     },
     "execution_count": 19,
     "metadata": {},
     "output_type": "execute_result"
    }
   ],
   "source": [
    "#itemsie\n",
    "a1.itemsize\n",
    "a2.itemsize\n",
    "a3.itemsize"
   ]
  },
  {
   "cell_type": "code",
   "execution_count": 23,
   "id": "18481ded",
   "metadata": {},
   "outputs": [
    {
     "name": "stdout",
     "output_type": "stream",
     "text": [
      "int32\n",
      "float64\n",
      "int32\n"
     ]
    }
   ],
   "source": [
    "#dtype\n",
    "\n",
    "print(a1.dtype)\n",
    "print(a2.dtype)\n",
    "print(a3.dtype)"
   ]
  },
  {
   "cell_type": "markdown",
   "id": "61df7aa4",
   "metadata": {},
   "source": [
    "CHANGING DATATYPE"
   ]
  },
  {
   "cell_type": "code",
   "execution_count": 25,
   "id": "72fb1e65",
   "metadata": {},
   "outputs": [
    {
     "name": "stdout",
     "output_type": "stream",
     "text": [
      "<built-in method astype of numpy.ndarray object at 0x000001B9762B07B0>\n",
      "<built-in method astype of numpy.ndarray object at 0x000001B975F3B390>\n",
      "<built-in method astype of numpy.ndarray object at 0x000001B9762B1410>\n"
     ]
    }
   ],
   "source": [
    "#astype\n",
    "print(a3.astype)\n",
    "print(a1.astype)\n",
    "print(a2.astype)"
   ]
  },
  {
   "cell_type": "markdown",
   "id": "0b9aab97",
   "metadata": {},
   "source": [
    "ARRAY OPERATIONS"
   ]
  },
  {
   "cell_type": "code",
   "execution_count": 29,
   "id": "02370dd1",
   "metadata": {},
   "outputs": [
    {
     "name": "stdout",
     "output_type": "stream",
     "text": [
      "[[ 0  1  2  3]\n",
      " [ 4  5  6  7]\n",
      " [ 8  9 10 11]]\n",
      "================\n",
      "[[12 13 14 15]\n",
      " [16 17 18 19]\n",
      " [20 21 22 23]]\n"
     ]
    }
   ],
   "source": [
    "a1=np.arange(12).reshape(3,4)\n",
    "a2=np.arange(12,24).reshape(3,4)\n",
    "print(a1)\n",
    "print(\"================\")\n",
    "print(a2)"
   ]
  },
  {
   "cell_type": "code",
   "execution_count": 33,
   "id": "8758977e",
   "metadata": {},
   "outputs": [
    {
     "name": "stdout",
     "output_type": "stream",
     "text": [
      "[[ 0  2  4  6]\n",
      " [ 8 10 12 14]\n",
      " [16 18 20 22]]\n",
      "-------------------------\n",
      "[[0.  0.5 1.  1.5]\n",
      " [2.  2.5 3.  3.5]\n",
      " [4.  4.5 5.  5.5]]\n",
      "-------------------------\n",
      "[[0 1 0 1]\n",
      " [0 1 0 1]\n",
      " [0 1 0 1]]\n",
      "-------------------------\n",
      "[[  0   1   4   9]\n",
      " [ 16  25  36  49]\n",
      " [ 64  81 100 121]]\n"
     ]
    }
   ],
   "source": [
    "#scalar operations\n",
    "\n",
    "#arithmetic\n",
    "\n",
    "print(a1*2)\n",
    "print(\"-------------------------\")\n",
    "print(a1/2)\n",
    "print(\"-------------------------\")\n",
    "print(a1%2)\n",
    "print(\"-------------------------\")\n",
    "print(a1**2)\n"
   ]
  },
  {
   "cell_type": "code",
   "execution_count": 37,
   "id": "60aa6668",
   "metadata": {},
   "outputs": [
    {
     "name": "stdout",
     "output_type": "stream",
     "text": [
      "[[False False False False]\n",
      " [False False  True  True]\n",
      " [ True  True  True  True]]\n",
      "-------------------------\n",
      "[[False False False False]\n",
      " [False False False False]\n",
      " [False False  True False]]\n",
      "-------------------------\n",
      "[[ True  True  True  True]\n",
      " [ True  True  True  True]\n",
      " [ True  True  True  True]]\n"
     ]
    }
   ],
   "source": [
    "#relational\n",
    "\n",
    "print(a1>5)\n",
    "print(\"-------------------------\")\n",
    "print(a1==10)\n",
    "print(\"-------------------------\")\n",
    "print(a1<15)"
   ]
  },
  {
   "cell_type": "code",
   "execution_count": 40,
   "id": "fb14deec",
   "metadata": {},
   "outputs": [
    {
     "name": "stdout",
     "output_type": "stream",
     "text": [
      "[[12 14 16 18]\n",
      " [20 22 24 26]\n",
      " [28 30 32 34]]\n",
      "-------------------------\n",
      "[[  0  13  28  45]\n",
      " [ 64  85 108 133]\n",
      " [160 189 220 253]]\n",
      "-------------------------\n",
      "[[          0           1       16384    14348907]\n",
      " [          0 -1564725563  1159987200   442181591]\n",
      " [          0  1914644777 -1304428544  -122979837]]\n",
      "-------------------------\n",
      "[[ 0  1  2  3]\n",
      " [ 4  5  6  7]\n",
      " [ 8  9 10 11]]\n"
     ]
    }
   ],
   "source": [
    "#vector  operations\n",
    "\n",
    "# arithmetic\n",
    "\n",
    "print(a1+a2)\n",
    "print(\"-------------------------\")\n",
    "print(a1*a2)\n",
    "print(\"-------------------------\")\n",
    "print(a1**a2)\n",
    "print(\"-------------------------\")\n",
    "print(a1%a2)"
   ]
  },
  {
   "cell_type": "markdown",
   "id": "6239c857",
   "metadata": {},
   "source": []
  },
  {
   "cell_type": "code",
   "execution_count": null,
   "id": "390fa757",
   "metadata": {},
   "outputs": [],
   "source": []
  }
 ],
 "metadata": {
  "kernelspec": {
   "display_name": "base",
   "language": "python",
   "name": "python3"
  },
  "language_info": {
   "codemirror_mode": {
    "name": "ipython",
    "version": 3
   },
   "file_extension": ".py",
   "mimetype": "text/x-python",
   "name": "python",
   "nbconvert_exporter": "python",
   "pygments_lexer": "ipython3",
   "version": "3.12.7"
  }
 },
 "nbformat": 4,
 "nbformat_minor": 5
}
