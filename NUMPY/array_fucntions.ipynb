{
 "cells": [
  {
   "cell_type": "code",
   "execution_count": null,
   "id": "b70941fa",
   "metadata": {},
   "outputs": [],
   "source": []
  },
  {
   "cell_type": "markdown",
   "id": "2fac6ced",
   "metadata": {},
   "source": [
    "ARRAY FUNCTIONS"
   ]
  },
  {
   "cell_type": "code",
   "execution_count": 2,
   "id": "a2208664",
   "metadata": {},
   "outputs": [
    {
     "name": "stdout",
     "output_type": "stream",
     "text": [
      "[[21. 99. 73.]\n",
      " [36. 78. 46.]\n",
      " [44. 50. 43.]]\n"
     ]
    }
   ],
   "source": [
    "import numpy as np\n",
    "a1=np.random.random((3,3))\n",
    "a1=np.round(a1*100)\n",
    "print(a1)"
   ]
  },
  {
   "cell_type": "code",
   "execution_count": 5,
   "id": "db2af630",
   "metadata": {},
   "outputs": [
    {
     "name": "stdout",
     "output_type": "stream",
     "text": [
      "99.0\n",
      "21.0\n",
      "490.0\n",
      "1854485410377600.0\n"
     ]
    }
   ],
   "source": [
    "#max/min/sum/prod\n",
    "\n",
    "print(np.max(a1))\n",
    "print(np.min(a1))\n",
    "print(np.sum(a1))\n",
    "print(np.prod(a1))"
   ]
  },
  {
   "cell_type": "code",
   "execution_count": 7,
   "id": "7d5dc30a",
   "metadata": {},
   "outputs": [
    {
     "name": "stdout",
     "output_type": "stream",
     "text": [
      "[99. 78. 50.]\n",
      "[44. 99. 73.]\n"
     ]
    }
   ],
   "source": [
    "#0---> col and 1---> rows\n",
    "\n",
    "print(np.max(a1, axis=1))\n",
    "print(np.max(a1,axis=0))"
   ]
  },
  {
   "cell_type": "code",
   "execution_count": 11,
   "id": "bba94cf6",
   "metadata": {},
   "outputs": [
    {
     "name": "stdout",
     "output_type": "stream",
     "text": [
      "54.44444444444444\n",
      "46.0\n",
      "22.78942791496439\n",
      "519.3580246913581\n"
     ]
    }
   ],
   "source": [
    "#statistical operations\n",
    "\n",
    "#medan/median/mode/std/var\n",
    "print(np.mean(a1))\n",
    "print(np.median(a1))\n",
    "print(np.std(a1))\n",
    "print(np.var(a1))"
   ]
  },
  {
   "cell_type": "code",
   "execution_count": 14,
   "id": "c6de96e2",
   "metadata": {},
   "outputs": [
    {
     "name": "stdout",
     "output_type": "stream",
     "text": [
      "[[ 0.83665564 -0.99920683 -0.67677196]\n",
      " [-0.99177885  0.51397846  0.90178835]\n",
      " [ 0.01770193 -0.26237485 -0.83177474]]\n",
      "-------------------------\n",
      "[[-0.54772926  0.03982088 -0.73619272]\n",
      " [-0.12796369 -0.85780309 -0.43217794]\n",
      " [ 0.99984331  0.96496603  0.5551133 ]]\n",
      "-------------------------\n",
      "[[-1.52749853e+00 -2.50925350e+01  9.19286404e-01]\n",
      " [ 7.75047091e+00 -5.99179998e-01 -2.08661353e+00]\n",
      " [ 1.77046993e-02 -2.71900612e-01 -1.49838734e+00]]\n"
     ]
    }
   ],
   "source": [
    "#trigonometric functions\n",
    "print(np.sin(a1))\n",
    "print(\"-------------------------\")\n",
    "print(np.cos(a1))\n",
    "print(\"-------------------------\")\n",
    "print(np.tan(a1))"
   ]
  },
  {
   "cell_type": "code",
   "execution_count": 16,
   "id": "ce8f5658",
   "metadata": {},
   "outputs": [
    {
     "name": "stdout",
     "output_type": "stream",
     "text": [
      "[[ 0  1  2  3]\n",
      " [ 4  5  6  7]\n",
      " [ 8  9 10 11]]\n",
      "-------------------------\n",
      "[[12 13 14]\n",
      " [15 16 17]\n",
      " [18 19 20]\n",
      " [21 22 23]]\n",
      "-------------------------\n",
      "[[114 120 126]\n",
      " [378 400 422]\n",
      " [642 680 718]]\n"
     ]
    }
   ],
   "source": [
    "#dot peoduct\n",
    "\n",
    "a2=np.arange(12).reshape(3,4)\n",
    "a3=np.arange(12,24).reshape(4,3)\n",
    "\n",
    "print(a2)\n",
    "print(\"-------------------------\")\n",
    "print(a3)\n",
    "print(\"-------------------------\")\n",
    "result = np.dot(a2, a3)\n",
    "print(result)"
   ]
  },
  {
   "cell_type": "code",
   "execution_count": 17,
   "id": "af154f7a",
   "metadata": {},
   "outputs": [
    {
     "data": {
      "text/plain": [
       "array([[1.31881573e+09, 9.88903032e+42, 5.05239363e+31],\n",
       "       [4.31123155e+15, 7.49841700e+33, 9.49611942e+19],\n",
       "       [1.28516001e+19, 5.18470553e+21, 4.72783947e+18]])"
      ]
     },
     "execution_count": 17,
     "metadata": {},
     "output_type": "execute_result"
    }
   ],
   "source": [
    "#LOG AND EXPONENETS\n",
    "\n",
    "np.exp(a1)"
   ]
  },
  {
   "cell_type": "code",
   "execution_count": 25,
   "id": "3fa3ac60",
   "metadata": {},
   "outputs": [
    {
     "name": "stdout",
     "output_type": "stream",
     "text": [
      "[[0. 0. 0.]\n",
      " [0. 0. 0.]]\n",
      "  \n",
      "[[1. 1. 1.]\n",
      " [1. 1. 0.]]\n",
      "\n",
      "[[1. 1. 1.]\n",
      " [1. 1. 1.]]\n"
     ]
    }
   ],
   "source": [
    "#floor/ceil/lround\n",
    "\n",
    "print(np.floor(np.random.random((2,3))))\n",
    "print(\"  \")\n",
    "print(np.round(np.random.random((2,3))))\n",
    "print(\"\")\n",
    "print(np.ceil(np.random.random((2,3))))\n"
   ]
  },
  {
   "cell_type": "code",
   "execution_count": null,
   "id": "b01fc27b",
   "metadata": {},
   "outputs": [],
   "source": []
  }
 ],
 "metadata": {
  "kernelspec": {
   "display_name": "base",
   "language": "python",
   "name": "python3"
  },
  "language_info": {
   "codemirror_mode": {
    "name": "ipython",
    "version": 3
   },
   "file_extension": ".py",
   "mimetype": "text/x-python",
   "name": "python",
   "nbconvert_exporter": "python",
   "pygments_lexer": "ipython3",
   "version": "3.12.7"
  }
 },
 "nbformat": 4,
 "nbformat_minor": 5
}
